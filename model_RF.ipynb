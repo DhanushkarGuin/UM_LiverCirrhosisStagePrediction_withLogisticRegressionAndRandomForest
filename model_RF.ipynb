{
 "cells": [
  {
   "cell_type": "markdown",
   "id": "7784692e",
   "metadata": {},
   "source": [
    "# Liver Cirrhosis Stage Detection Project"
   ]
  },
  {
   "cell_type": "markdown",
   "id": "77fa1aca",
   "metadata": {},
   "source": [
    "Cell 1 - Importing necesarry Libraries"
   ]
  },
  {
   "cell_type": "code",
   "execution_count": null,
   "id": "0b5e363b",
   "metadata": {},
   "outputs": [],
   "source": [
    "import numpy as np\n",
    "import pandas as pd"
   ]
  },
  {
   "cell_type": "markdown",
   "id": "36f735fa",
   "metadata": {},
   "source": [
    "Cell 2 - Reading and Importing Data"
   ]
  },
  {
   "cell_type": "code",
   "execution_count": null,
   "id": "d2c6e7f6",
   "metadata": {},
   "outputs": [],
   "source": [
    "dataset = pd.read_csv('liver_cirrhosis.csv')\n",
    "# print(dataset.head())"
   ]
  },
  {
   "cell_type": "markdown",
   "id": "f7011604",
   "metadata": {},
   "source": [
    "Cell 3 - Standard Scaling the data"
   ]
  },
  {
   "cell_type": "code",
   "execution_count": null,
   "id": "8c9f9a48",
   "metadata": {},
   "outputs": [],
   "source": [
    "# Applying Standard Scale to avoid big numbers influence the algorithm into predicting wrong \n",
    "dataset['N_Days'] = scaler.fit_transform(dataset[['N_Days']])\n",
    "dataset['Age'] = scaler.fit_transform(dataset[['Age']])\n",
    "dataset['Bilirubin'] = scaler.fit_transform(dataset[['Bilirubin']])\n",
    "dataset['Cholesterol'] = scaler.fit_transform(dataset[['Cholesterol']])\n",
    "dataset['Albumin'] = scaler.fit_transform(dataset[['Albumin']])\n",
    "dataset['Copper'] = scaler.fit_transform(dataset[['Copper']])\n",
    "dataset['Alk_Phos'] = scaler.fit_transform(dataset[['Alk_Phos']])\n",
    "dataset['SGOT'] = scaler.fit_transform(dataset[['SGOT']])\n",
    "dataset['Tryglicerides'] = scaler.fit_transform(dataset[['Tryglicerides']])\n",
    "dataset['Platelets'] = scaler.fit_transform(dataset[['Platelets']])\n",
    "dataset['Prothrombin'] = scaler.fit_transform(dataset[['Prothrombin']])"
   ]
  },
  {
   "cell_type": "markdown",
   "id": "40f08a3c",
   "metadata": {},
   "source": [
    "Cell 4 - Mapping the categorical values into binary values whichever are possible"
   ]
  },
  {
   "cell_type": "code",
   "execution_count": null,
   "id": "ce9ad665",
   "metadata": {},
   "outputs": [],
   "source": [
    "# Converting the categorical values into binary values\n",
    "dataset['Drug'] = dataset['Drug'].map({'Placebo': 0, 'D-penicillamine':1})\n",
    "dataset['Sex'] = dataset['Sex'].map({'F': 0, 'M':1})\n",
    "dataset['Ascites'] = dataset['Ascites'].map({'N': 0, 'Y':1})\n",
    "dataset['Hepatomegaly'] = dataset['Hepatomegaly'].map({'N': 0, 'Y':1})\n",
    "dataset['Spiders'] = dataset['Spiders'].map({'N': 0, 'Y':1})\n",
    "# print(dataset.head())"
   ]
  },
  {
   "cell_type": "markdown",
   "id": "0f8a054f",
   "metadata": {},
   "source": [
    "Cell 5 - Allocating features to the variables"
   ]
  },
  {
   "cell_type": "code",
   "execution_count": null,
   "id": "bd8a2bc2",
   "metadata": {},
   "outputs": [],
   "source": [
    "X = dataset.iloc[:, :-1]\n",
    "y = dataset.iloc[:, -1]"
   ]
  },
  {
   "cell_type": "markdown",
   "id": "7e0a0e2a",
   "metadata": {},
   "source": [
    "Cell 6 - Applying OneHotEncoder to categorical features and giving names to the features for readability"
   ]
  },
  {
   "cell_type": "code",
   "execution_count": null,
   "id": "9f97311d",
   "metadata": {},
   "outputs": [],
   "source": [
    "from sklearn.compose import ColumnTransformer\n",
    "from sklearn.preprocessing import OneHotEncoder\n",
    "\n",
    "ct = ColumnTransformer(transformers=[('encoder', OneHotEncoder(sparse_output=False), [1,8])],\n",
    "                        remainder='passthrough')\n",
    "X = np.array(ct.fit_transform(X))\n",
    "\n",
    "# Applying this to obtain the names of the column for readability\n",
    "encoded_col_names = ct.named_transformers_['encoder'].get_feature_names_out()\n",
    "non_encoded_col_names = [col for i, col in enumerate(dataset.columns[:-1]) if i not in [1,8]]\n",
    "all_col_names = list(encoded_col_names) + non_encoded_col_names\n",
    "X_df = pd.DataFrame(X, columns=all_col_names)\n",
    "# print(X_df.head())\n",
    "# print(X_df.columns)"
   ]
  },
  {
   "cell_type": "markdown",
   "id": "8069f5a5",
   "metadata": {},
   "source": [
    "Cell 7 - Splitting the data for training and testing"
   ]
  },
  {
   "cell_type": "code",
   "execution_count": null,
   "id": "c4ad22af",
   "metadata": {},
   "outputs": [],
   "source": [
    "from sklearn.model_selection import train_test_split\n",
    "X_train, X_test, y_train, y_test = train_test_split(X,y, test_size=0.2, random_state= 0)"
   ]
  },
  {
   "cell_type": "markdown",
   "id": "c61c5527",
   "metadata": {},
   "source": [
    "Cell 8 - Implementing Random Forest "
   ]
  },
  {
   "cell_type": "code",
   "execution_count": null,
   "id": "eb91cfe7",
   "metadata": {},
   "outputs": [],
   "source": [
    "from sklearn.ensemble import RandomForestClassifier\n",
    "rf = RandomForestClassifier()\n",
    "rf.fit(X_train,y_train)\n",
    "\n",
    "y_pred = rf.predict(X_test)\n",
    "# print(y_pred)"
   ]
  },
  {
   "cell_type": "markdown",
   "id": "c6059eb4",
   "metadata": {},
   "source": [
    "Cell 9 - Evaluation of Model"
   ]
  },
  {
   "cell_type": "code",
   "execution_count": null,
   "id": "a1352431",
   "metadata": {},
   "outputs": [],
   "source": [
    "from sklearn.metrics import roc_auc_score\n",
    "y_pred_proba = rf.predict_proba(X_test)\n",
    "roc_auc = roc_auc_score(y_test, y_pred_proba, multi_class='ovr')\n",
    "print(\"ROC AUC Score (OvR):\", roc_auc)\n",
    "\n",
    "from sklearn.metrics import precision_score,recall_score,confusion_matrix\n",
    "print(\"Precision:\", precision_score(y_test,y_pred, average='weighted'))\n",
    "print('Recall:', recall_score(y_test,y_pred, average='weighted'))\n",
    "print('Confusion Matrix:', confusion_matrix(y_test,y_pred))"
   ]
  },
  {
   "cell_type": "markdown",
   "id": "f0e5aef1",
   "metadata": {},
   "source": [
    "Cell 10 - Taking User Input"
   ]
  },
  {
   "cell_type": "code",
   "execution_count": null,
   "id": "c8d0b832",
   "metadata": {},
   "outputs": [],
   "source": [
    "print(\"Enter data for prediction!\")\n",
    "n_days = int(input('Enter number of days:'))\n",
    "status = (input('Enter status of patient(C (censored), CL (censored due to liver tx), or D (death)):'))\n",
    "drug = (input('Enter the type of Drug:'))\n",
    "age = int(input('Enter age in days:'))\n",
    "sex = input('Enter sex(F for Female or M for Male):')\n",
    "ascites = input('Enter presence of ascites(N for No or Y for Yes):')\n",
    "hepatomegaly = input('Enter presence of hepatomegaly(N for No or Y for Yes):')\n",
    "spiders = input('Enter presence of spiders(N for No or Y for Yes):')\n",
    "edema = input(\n",
    "    'Enter presence of edema N (no edema and no diuretic therapy for edema), S (edemapresent without diuretics, or edema resolved by diuretics), or Y (edema despite diuretictherapy):'\n",
    "    )\n",
    "bilirubin = float(input('Serum Bilirubin in mg/dl:'))\n",
    "cholestrol = float(input('Serum Cholestrol in mg/dl:'))\n",
    "albumin = float(input('Albumin in gm/dl:'))\n",
    "copper = float(input('Urine Copper in ug/day:'))\n",
    "alk_phos = float(input('Alkaline phosphatase in U/l:'))\n",
    "sgot = float(input('SGOT in U/ml:'))\n",
    "tryglicerides = float(input('Tryglicerides in mg/dl:'))\n",
    "platelets = float(input('Platelets per cubic [ml/1000]:'))\n",
    "prothrombin = float(input('Prothrombin time in seconds [s]'))"
   ]
  },
  {
   "cell_type": "markdown",
   "id": "df5e8fff",
   "metadata": {},
   "source": [
    "Cell 11 - Mapping Categorical values into numeric values manually"
   ]
  },
  {
   "cell_type": "code",
   "execution_count": null,
   "id": "e93fdf81",
   "metadata": {},
   "outputs": [],
   "source": [
    "drug = 1 if drug == 'D-penicillamine' else 0\n",
    "sex = 1 if sex == 'M' else 0\n",
    "ascites = 1 if ascites == 'Y' else 0\n",
    "hepatomegaly = 1 if hepatomegaly == 'Y' else 0\n",
    "spiders = 1 if spiders == 'Y' else 0\n",
    "\n",
    "status_encoded = [0,0,0]\n",
    "if status == 'C':\n",
    "    status_encoded[0] = 1\n",
    "elif status == 'CL':\n",
    "    status_encoded[1] = 1\n",
    "else:\n",
    "    status_encoded[2] = 1\n",
    "\n",
    "edema_encoded = [0,0,0]\n",
    "if edema == 'N':\n",
    "    edema_encoded[0] = 1\n",
    "elif edema == 'S':\n",
    "    edema_encoded[1] = 1\n",
    "else:\n",
    "    edema_encoded[2] = 1"
   ]
  },
  {
   "cell_type": "markdown",
   "id": "0c0319c9",
   "metadata": {},
   "source": [
    "Cell 12 - Predicting the output for user input"
   ]
  },
  {
   "cell_type": "code",
   "execution_count": null,
   "id": "1089df72",
   "metadata": {},
   "outputs": [],
   "source": [
    "user_input = status_encoded + edema_encoded + [\n",
    "    n_days, drug, age, sex, ascites, hepatomegaly, spiders,\n",
    "    bilirubin, cholestrol, albumin, copper,\n",
    "    alk_phos, sgot, tryglicerides, platelets, prothrombin\n",
    "]\n",
    "\n",
    "user_input = np.array(user_input).reshape(1, -1)\n",
    "\n",
    "prediction = rf.predict(user_input)\n",
    "print(f\"Stage of Liver Cirrhosis: {prediction[0]}\")"
   ]
  }
 ],
 "metadata": {
  "language_info": {
   "name": "python"
  }
 },
 "nbformat": 4,
 "nbformat_minor": 5
}
