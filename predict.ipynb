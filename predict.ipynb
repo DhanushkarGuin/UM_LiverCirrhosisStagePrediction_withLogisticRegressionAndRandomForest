{
 "cells": [
  {
   "cell_type": "markdown",
   "id": "1d032e78",
   "metadata": {},
   "source": [
    "Cell 1: Necessary imports"
   ]
  },
  {
   "cell_type": "code",
   "execution_count": null,
   "id": "26fc31e4",
   "metadata": {},
   "outputs": [],
   "source": [
    "import pickle\n",
    "import pandas as pd"
   ]
  },
  {
   "cell_type": "markdown",
   "id": "58c13082",
   "metadata": {},
   "source": [
    "Cell 2: Importing pipeline"
   ]
  },
  {
   "cell_type": "code",
   "execution_count": null,
   "id": "dca82446",
   "metadata": {},
   "outputs": [],
   "source": [
    "pipeline = pickle.load(open('pipeline.pkl', 'rb'))"
   ]
  },
  {
   "cell_type": "markdown",
   "id": "8365f6f2",
   "metadata": {},
   "source": [
    "Cell 3: Storing column names"
   ]
  },
  {
   "cell_type": "code",
   "execution_count": null,
   "id": "6723f9df",
   "metadata": {},
   "outputs": [],
   "source": [
    "columns = ['N_Days', 'Status', 'Drug',\n",
    "            'Age', 'Sex', 'Ascites',\n",
    "            'Hepatomegaly', 'Spiders', 'Edema',\n",
    "            'Bilirubin', 'Cholesterol',\n",
    "            'Albumin', 'Copper', 'Alk_Phos', \n",
    "            'SGOT', 'Tryglicerides', 'Platelets', \n",
    "            'Prothrombin']"
   ]
  },
  {
   "cell_type": "markdown",
   "id": "daa5227c",
   "metadata": {},
   "source": [
    "Cell 4: Accepting or defining inputs"
   ]
  },
  {
   "cell_type": "code",
   "execution_count": null,
   "id": "cc549af5",
   "metadata": {},
   "outputs": [],
   "source": [
    "test_input = pd.DataFrame([[2000, 'C', 'Placebo', '18000', 'M', 'Y', 'N', 'N', 'Y', 0.5, 200, 4.04, 22, 1200, 105, 80, 150, 10]], columns = columns)"
   ]
  },
  {
   "cell_type": "markdown",
   "id": "03e5cbff",
   "metadata": {},
   "source": [
    "Cell 5: Predicitons"
   ]
  },
  {
   "cell_type": "code",
   "execution_count": null,
   "id": "ed27e163",
   "metadata": {},
   "outputs": [],
   "source": [
    "prediction = pipeline.predict(test_input)\n",
    "print('Stage:', prediction)"
   ]
  }
 ],
 "metadata": {
  "language_info": {
   "name": "python"
  }
 },
 "nbformat": 4,
 "nbformat_minor": 5
}
