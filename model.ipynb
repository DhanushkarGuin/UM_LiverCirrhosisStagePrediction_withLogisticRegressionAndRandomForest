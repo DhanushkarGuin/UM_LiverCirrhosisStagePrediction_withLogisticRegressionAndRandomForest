{
 "cells": [
  {
   "cell_type": "markdown",
   "id": "7784692e",
   "metadata": {},
   "source": [
    "# Liver Cirrhosis Stage Detection Project"
   ]
  },
  {
   "cell_type": "markdown",
   "id": "77fa1aca",
   "metadata": {},
   "source": [
    "Cell 1 - Importing necesarry Libraries"
   ]
  },
  {
   "cell_type": "code",
   "execution_count": null,
   "id": "0b5e363b",
   "metadata": {},
   "outputs": [],
   "source": [
    "import pandas as pd\n",
    "from sklearn.model_selection import train_test_split\n",
    "from sklearn.preprocessing import StandardScaler\n",
    "from sklearn.preprocessing import OneHotEncoder\n",
    "from sklearn.compose import ColumnTransformer\n",
    "from sklearn.pipeline import Pipeline\n",
    "from sklearn.ensemble import RandomForestClassifier\n",
    "from sklearn.metrics import precision_score,recall_score,confusion_matrix\n",
    "import pickle"
   ]
  },
  {
   "cell_type": "markdown",
   "id": "36f735fa",
   "metadata": {},
   "source": [
    "Cell 2 - Reading and Importing Data"
   ]
  },
  {
   "cell_type": "code",
   "execution_count": null,
   "id": "d2c6e7f6",
   "metadata": {},
   "outputs": [],
   "source": [
    "dataset = pd.read_csv('liver_cirrhosis.csv')\n",
    "# print(dataset.head())"
   ]
  },
  {
   "cell_type": "markdown",
   "id": "f7011604",
   "metadata": {},
   "source": [
    "Cell 3 - Checking for null values and names of features"
   ]
  },
  {
   "cell_type": "code",
   "execution_count": null,
   "id": "8c9f9a48",
   "metadata": {},
   "outputs": [],
   "source": [
    "# print(dataset.columns.tolist())\n",
    "\n",
    "# print(dataset.isnull().sum()) # No empty values"
   ]
  },
  {
   "cell_type": "markdown",
   "id": "40f08a3c",
   "metadata": {},
   "source": [
    "Cell 4 - Storing feature names and dataset features"
   ]
  },
  {
   "cell_type": "code",
   "execution_count": null,
   "id": "ce9ad665",
   "metadata": {},
   "outputs": [],
   "source": [
    "categorical_columns = ['Status','Drug','Sex','Ascites', 'Hepatomegaly', 'Spiders', 'Edema']\n",
    "\n",
    "numerical_columns = ['N_Days', 'Age', 'Bilirubin', 'Cholesterol', 'Albumin', 'Copper', 'Alk_Phos', 'SGOT', 'Tryglicerides', 'Platelets', 'Prothrombin']\n",
    "\n",
    "X = dataset.drop(columns = ['Stage'])\n",
    "y = dataset['Stage']"
   ]
  },
  {
   "cell_type": "markdown",
   "id": "8069f5a5",
   "metadata": {},
   "source": [
    "Cell 5 - Splitting the data for training and testing"
   ]
  },
  {
   "cell_type": "code",
   "execution_count": null,
   "id": "c4ad22af",
   "metadata": {},
   "outputs": [],
   "source": [
    "X_train, X_test, y_train, y_test = train_test_split(X,y, test_size=0.2, random_state= 0)"
   ]
  },
  {
   "cell_type": "markdown",
   "id": "c61c5527",
   "metadata": {},
   "source": [
    "Cell 6 - Implementing Pipeline"
   ]
  },
  {
   "cell_type": "code",
   "execution_count": null,
   "id": "eb91cfe7",
   "metadata": {},
   "outputs": [],
   "source": [
    "preprocces = ColumnTransformer([\n",
    "    ('scaler', StandardScaler(), numerical_columns),\n",
    "    ('ohe', OneHotEncoder(sparse_output=False,handle_unknown='ignore'),categorical_columns)\n",
    "],remainder='passthrough')\n",
    "\n",
    "pipeline = Pipeline([\n",
    "    ('preprocess', preprocces),\n",
    "    ('rf',RandomForestClassifier())\n",
    "])\n",
    "\n",
    "pipeline.fit(X_train,y_train)\n",
    "y_pred = pipeline.predict(X_test)"
   ]
  },
  {
   "cell_type": "markdown",
   "id": "c6059eb4",
   "metadata": {},
   "source": [
    "Cell 7 - Evaluation of Model"
   ]
  },
  {
   "cell_type": "code",
   "execution_count": null,
   "id": "a1352431",
   "metadata": {},
   "outputs": [],
   "source": [
    "print('Precision', precision_score(y_test,y_pred, average='weighted'))\n",
    "print('Recall', recall_score(y_test,y_pred,average='weighted'))\n",
    "print('Confusion Matrix \\n', confusion_matrix(y_test,y_pred))"
   ]
  },
  {
   "cell_type": "markdown",
   "id": "f0e5aef1",
   "metadata": {},
   "source": [
    "Cell 8 - Exporting pipeline"
   ]
  },
  {
   "cell_type": "code",
   "execution_count": null,
   "id": "c8d0b832",
   "metadata": {},
   "outputs": [],
   "source": [
    "pickle.dump(pipeline, open('pipeline.pkl', 'wb'))"
   ]
  }
 ],
 "metadata": {
  "language_info": {
   "name": "python"
  }
 },
 "nbformat": 4,
 "nbformat_minor": 5
}
